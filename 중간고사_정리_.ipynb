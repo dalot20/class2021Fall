{
  "nbformat": 4,
  "nbformat_minor": 0,
  "metadata": {
    "colab": {
      "name": "중간고사 정리  .ipynb",
      "provenance": [],
      "authorship_tag": "ABX9TyN4pgJmQKiZcyrzXMKllM4f",
      "include_colab_link": true
    },
    "kernelspec": {
      "name": "python3",
      "display_name": "Python 3"
    },
    "language_info": {
      "name": "python"
    }
  },
  "cells": [
    {
      "cell_type": "markdown",
      "metadata": {
        "id": "view-in-github",
        "colab_type": "text"
      },
      "source": [
        "<a href=\"https://colab.research.google.com/github/dalot20/class2021Fall/blob/main/%EC%A4%91%EA%B0%84%EA%B3%A0%EC%82%AC_%EC%A0%95%EB%A6%AC_.ipynb\" target=\"_parent\"><img src=\"https://colab.research.google.com/assets/colab-badge.svg\" alt=\"Open In Colab\"/></a>"
      ]
    },
    {
      "cell_type": "markdown",
      "source": [
        "변수 (variables), 제어문(syntax),함수 11월 8일"
      ],
      "metadata": {
        "id": "voFfAMBWVvIm"
      }
    },
    {
      "cell_type": "code",
      "execution_count": 27,
      "metadata": {
        "colab": {
          "base_uri": "https://localhost:8080/"
        },
        "id": "ONrHwDlpTk0k",
        "outputId": "e16b7275-d565-4d69-e28d-c2cc3c67d6bf"
      },
      "outputs": [
        {
          "output_type": "stream",
          "name": "stdout",
          "text": [
            "red fruit\n"
          ]
        }
      ],
      "source": [
        "a=1\n",
        "b=1.1\n",
        "c='hello'\n",
        "d=[1,'abc',2.1]\n",
        "e={\"apple\":\"red fruit\",\"banana\":\"yellow fruit\"}\n",
        "\n",
        "# print(a)\n",
        "# print(b)\n",
        "\n",
        "#print(type(a))\n",
        "#print(type(c))\n",
        "#print(type(b))\n",
        "#print(type(d))\n",
        "\n",
        "# 숫자는 0부터 시작 0이 첫번째 것을 의미\n",
        "# list나 str에 대해서 추출할 때는 숫자로 접근 print(c[1]), print(d[1][1]) 이런 식으로 하면 리스트 내의 인자 중에서 또 추출이 가능\n",
        "# [0:2] 하면 0에서 1까지임\n",
        "# dictionary에서 특정한 인자 추출할 때는 문자로 접근 print(e[\"apple\"])\n",
        " \n"
      ]
    }
  ]
}