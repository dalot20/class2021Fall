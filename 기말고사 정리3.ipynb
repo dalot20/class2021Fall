{
  "nbformat": 4,
  "nbformat_minor": 0,
  "metadata": {
    "colab": {
      "name": "function.ipynb",
      "provenance": [],
      "include_colab_link": true
    },
    "kernelspec": {
      "name": "python3",
      "display_name": "Python 3"
    }
  },
  "cells": [
    {
      "cell_type": "markdown",
      "metadata": {
        "id": "view-in-github",
        "colab_type": "text"
      },
      "source": [
        "<a href=\"https://colab.research.google.com/github/dalot20/class2021Fall/blob/main/%EA%B8%B0%EB%A7%90%EA%B3%A0%EC%82%AC%20%EC%A0%95%EB%A6%AC3.ipynb\" target=\"_parent\"><img src=\"https://colab.research.google.com/assets/colab-badge.svg\" alt=\"Open In Colab\"/></a>"
      ]
    },
    {
      "cell_type": "code",
      "metadata": {
        "id": "hpc_mhgAye2S"
      },
      "source": [
        "def add(a,b):\n",
        "  return a+b\n",
        "\n",
        "def subtract(a,b):\n",
        "  return a-b\n",
        "\n",
        "def multiply(a,b):\n",
        "  return a*b\n",
        "\n",
        "def divide(a,b):\n",
        "  return a/b"
      ],
      "execution_count": null,
      "outputs": []
    },
    {
      "cell_type": "code",
      "source": [
        "def "
      ],
      "metadata": {
        "id": "km5EB7dvjW5z"
      },
      "execution_count": null,
      "outputs": []
    },
    {
      "cell_type": "markdown",
      "source": [
        "함수는 입력과 출력을 받을 수 있지만 반드시 그것을 명시할 필요는 없다"
      ],
      "metadata": {
        "id": "P9N_B57Slxe2"
      }
    },
    {
      "cell_type": "code",
      "metadata": {
        "colab": {
          "base_uri": "https://localhost:8080/"
        },
        "id": "8Y4oa05Eykn4",
        "outputId": "7e186590-61dc-49a9-e22f-0bcb617fd3b7"
      },
      "source": [
        "c = add(1,2); print(c)\n",
        "c = subtract(1,2); print(c)\n",
        "c = multiply(1,2); print(c)\n",
        "c = divide(1,2); print(c)"
      ],
      "execution_count": null,
      "outputs": [
        {
          "output_type": "stream",
          "text": [
            "3\n",
            "-1\n",
            "2\n",
            "0.5\n"
          ],
          "name": "stdout"
        }
      ]
    }
  ]
}