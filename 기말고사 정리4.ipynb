{
  "nbformat": 4,
  "nbformat_minor": 0,
  "metadata": {
    "colab": {
      "name": "Untitled1.ipynb",
      "provenance": [],
      "authorship_tag": "ABX9TyM3HyPBlWpqfMJZ2aUCfc6b",
      "include_colab_link": true
    },
    "kernelspec": {
      "name": "python3",
      "display_name": "Python 3"
    },
    "language_info": {
      "name": "python"
    }
  },
  "cells": [
    {
      "cell_type": "markdown",
      "metadata": {
        "id": "view-in-github",
        "colab_type": "text"
      },
      "source": [
        "<a href=\"https://colab.research.google.com/github/dalot20/class2021Fall/blob/main/%EA%B8%B0%EB%A7%90%EA%B3%A0%EC%82%AC%20%EC%A0%95%EB%A6%AC4.ipynb\" target=\"_parent\"><img src=\"https://colab.research.google.com/assets/colab-badge.svg\" alt=\"Open In Colab\"/></a>"
      ]
    },
    {
      "cell_type": "code",
      "metadata": {
        "id": "EOb7E8Rlul8a"
      },
      "source": [
        "import numpy as np"
      ],
      "execution_count": 4,
      "outputs": []
    },
    {
      "cell_type": "code",
      "metadata": {
        "colab": {
          "base_uri": "https://localhost:8080/"
        },
        "id": "JdycB_TGvxzc",
        "outputId": "cf18b16b-d052-4c84-e976-8f47975d3677"
      },
      "source": [
        "x = np.array([1,2,3]) #입력한 대로 array를 만들어주는 함수\n",
        "print(x) #x를 출력\n",
        "print(type(x)) #numpy에서 만들었던 ndimesion을 array 해줌.\n",
        "print(x.shape) #'1,2,3'으로 구성된 1차원, 한 개의 대괄호만 있기 때문에!"
      ],
      "execution_count": null,
      "outputs": [
        {
          "output_type": "stream",
          "name": "stdout",
          "text": [
            "[1 2 3]\n",
            "<class 'numpy.ndarray'>\n",
            "(3,)\n"
          ]
        }
      ]
    },
    {
      "cell_type": "code",
      "metadata": {
        "colab": {
          "base_uri": "https://localhost:8080/"
        },
        "id": "ulAfYvK-v9rj",
        "outputId": "014f6fcd-270b-4e4b-8f56-7ec9f04132c5"
      },
      "source": [
        "x = np.arange(0,10,2) #증가량이 2인, 0에서 10사이의 수열, 마지막 숫자인 10은 포함되지 않음.\n",
        "print(x)\n",
        "print(type(x))\n",
        "print(x.shape)"
      ],
      "execution_count": null,
      "outputs": [
        {
          "output_type": "stream",
          "name": "stdout",
          "text": [
            "[0 2 4 6 8]\n",
            "<class 'numpy.ndarray'>\n",
            "(5,)\n"
          ]
        }
      ]
    },
    {
      "cell_type": "code",
      "metadata": {
        "colab": {
          "base_uri": "https://localhost:8080/"
        },
        "id": "w2N0nuNZwI3U",
        "outputId": "9ebc8e75-ac74-4477-cf42-19772ff29cf1"
      },
      "source": [
        "x = np.linspace(0,10,6) #arange와 다르게 10이 포함됨, 0, 10사이에서 6번의 등차로 증가하는 수열\n",
        "print(x)\n",
        "print(type(x))\n",
        "print(x.shape)"
      ],
      "execution_count": null,
      "outputs": [
        {
          "output_type": "stream",
          "name": "stdout",
          "text": [
            "[ 0.  2.  4.  6.  8. 10.]\n",
            "<class 'numpy.ndarray'>\n",
            "(6,)\n"
          ]
        }
      ]
    },
    {
      "cell_type": "code",
      "metadata": {
        "colab": {
          "base_uri": "https://localhost:8080/"
        },
        "id": "8rhg4H0awPbc",
        "outputId": "08e13423-dbd4-4185-cecd-cbce68a46c85"
      },
      "source": [
        "x = np.array([[1,2,3], [4,5,6]]) #대괄호가 두 개이기에 2차원\n",
        "print(x)\n",
        "print(type(x))\n",
        "print(x.shape) #가장 밖에 있는 대괄호에 원소가 2개, 그리고 그 각각의 원소의 원소가 3개씩 있음"
      ],
      "execution_count": null,
      "outputs": [
        {
          "output_type": "stream",
          "name": "stdout",
          "text": [
            "[[1 2 3]\n",
            " [4 5 6]]\n",
            "<class 'numpy.ndarray'>\n",
            "(2, 3)\n"
          ]
        }
      ]
    },
    {
      "cell_type": "code",
      "metadata": {
        "colab": {
          "base_uri": "https://localhost:8080/"
        },
        "id": "mUmvOo0VwUgk",
        "outputId": "7909dfd8-389e-4e8a-ef51-5e512836f89c"
      },
      "source": [
        "x = np.array([[[1,2,3], [4,5,6]], [[7,8,9], [10,11,12]]])\n",
        "print(x)\n",
        "print(type(x))\n",
        "print(x.shape) "
      ],
      "execution_count": null,
      "outputs": [
        {
          "output_type": "stream",
          "name": "stdout",
          "text": [
            "[[[ 1  2  3]\n",
            "  [ 4  5  6]]\n",
            "\n",
            " [[ 7  8  9]\n",
            "  [10 11 12]]]\n",
            "<class 'numpy.ndarray'>\n",
            "(2, 2, 3)\n"
          ]
        }
      ]
    },
    {
      "cell_type": "code",
      "metadata": {
        "colab": {
          "base_uri": "https://localhost:8080/"
        },
        "id": "x1FTv1cBwX1c",
        "outputId": "ee7b3002-dfc2-432b-80ed-915f4250b0c0"
      },
      "source": [
        "x = np.ones([2, 2, 3]) #입력한 숫자로 차원을 만들어줌\n",
        "print(x)\n",
        "print(type(x))\n",
        "print(x.shape)"
      ],
      "execution_count": null,
      "outputs": [
        {
          "output_type": "stream",
          "name": "stdout",
          "text": [
            "[[[1. 1. 1.]\n",
            "  [1. 1. 1.]]\n",
            "\n",
            " [[1. 1. 1.]\n",
            "  [1. 1. 1.]]]\n",
            "<class 'numpy.ndarray'>\n",
            "(2, 2, 3)\n"
          ]
        }
      ]
    },
    {
      "cell_type": "code",
      "metadata": {
        "colab": {
          "base_uri": "https://localhost:8080/"
        },
        "id": "gpC5Uq-vwdu2",
        "outputId": "7476bc54-15d6-4858-f760-275347f0e131"
      },
      "source": [
        "x = np.zeros([2, 2, 3])\n",
        "print(x)\n",
        "print(type(x))\n",
        "print(x.shape)\n",
        "x.reshape(3,2,2)"
      ],
      "execution_count": null,
      "outputs": [
        {
          "output_type": "stream",
          "name": "stdout",
          "text": [
            "[[[0. 0. 0.]\n",
            "  [0. 0. 0.]]\n",
            "\n",
            " [[0. 0. 0.]\n",
            "  [0. 0. 0.]]]\n",
            "<class 'numpy.ndarray'>\n",
            "(2, 2, 3)\n"
          ]
        },
        {
          "output_type": "execute_result",
          "data": {
            "text/plain": [
              "array([[[0., 0.],\n",
              "        [0., 0.]],\n",
              "\n",
              "       [[0., 0.],\n",
              "        [0., 0.]],\n",
              "\n",
              "       [[0., 0.],\n",
              "        [0., 0.]]])"
            ]
          },
          "metadata": {},
          "execution_count": 8
        }
      ]
    },
    {
      "cell_type": "code",
      "metadata": {
        "id": "G35EqHWuwi0v"
      },
      "source": [
        "import matplotlib.pyplot as plt"
      ],
      "execution_count": 2,
      "outputs": []
    },
    {
      "cell_type": "code",
      "metadata": {
        "colab": {
          "base_uri": "https://localhost:8080/",
          "height": 669
        },
        "id": "W_5vgBZUwkK4",
        "outputId": "2601bc27-04dc-4721-ba3f-0d8641aede16"
      },
      "source": [
        "x = np.random.normal(0, 1, 100) #평균이 0이고 표준편차가 1인 100개의 정규분포\n",
        "print(x)\n",
        "plt.hist(x, bins=10)"
      ],
      "execution_count": null,
      "outputs": [
        {
          "output_type": "stream",
          "name": "stdout",
          "text": [
            "[-0.90924584  0.62139743 -1.17199496  0.29758918 -2.38663221  0.04864825\n",
            " -0.90907489 -0.56110421 -1.60065196 -0.76153269 -1.46642338  1.87548055\n",
            "  1.1900086   1.02869671  0.55131192 -1.22932864  0.5539538   0.26969996\n",
            "  1.67856688 -0.45700351  0.82049219 -0.42447646  0.18875546 -0.02476016\n",
            " -0.04354608 -0.00446051 -0.80196814 -1.76375603  0.64521719  2.15599296\n",
            "  0.07974699 -0.1080444   0.95327019  0.78089485 -1.68846357 -1.01755415\n",
            "  0.23099641  1.79320789 -0.37743569  0.21480524  2.05927567  1.82929589\n",
            "  0.09185991  1.17175921 -1.03594851 -0.15323288 -0.65854046  1.27905536\n",
            " -0.66648031  0.03810931 -0.2646452   0.19154305  0.26438665 -0.36661226\n",
            "  0.31382734  0.73703748 -0.70522185  0.93018533 -1.45146845 -0.49899316\n",
            " -0.18750698  0.29791794  0.28885763  1.76053329 -0.47481249 -0.67268947\n",
            " -0.29468699 -1.77088466  0.93811157 -0.14876173  0.76117626 -1.280534\n",
            "  0.9104882   0.00677349  0.31318565 -2.87927561 -0.51442949 -1.23442385\n",
            " -0.56661871 -1.69113688 -0.03280077  1.37040693 -0.72479035  0.34426981\n",
            " -1.09358388  1.25596437 -2.35000137 -0.21733143 -0.35966173  0.41688738\n",
            " -1.01889177 -1.31318855  0.7823734  -0.08018452  1.39643128 -0.46674215\n",
            " -2.64432957 -1.81687441  1.45083413 -0.05039999]\n"
          ]
        },
        {
          "output_type": "execute_result",
          "data": {
            "text/plain": [
              "(array([ 3.,  1.,  8., 11., 17., 19., 17., 10.,  7.,  7.]),\n",
              " array([-2.87927561, -2.37574875, -1.87222189, -1.36869504, -0.86516818,\n",
              "        -0.36164132,  0.14188553,  0.64541239,  1.14893925,  1.6524661 ,\n",
              "         2.15599296]),\n",
              " <a list of 10 Patch objects>)"
            ]
          },
          "metadata": {},
          "execution_count": 10
        },
        {
          "output_type": "display_data",
          "data": {
            "image/png": "[encoded data removed]",
            "text/plain": [
              "<Figure size 432x288 with 1 Axes>"
            ]
          },
          "metadata": {
            "needs_background": "light"
          }
        }
      ]
    },
    {
      "cell_type": "code",
      "metadata": {
        "colab": {
          "base_uri": "https://localhost:8080/",
          "height": 313
        },
        "id": "7lXSYWQ-w-fB",
        "outputId": "58815ee9-78ae-412a-91a3-c62a6edc15e2"
      },
      "source": [
        "theta = np.linspace(0, 2*np.pi, 100) #sin 곡선을 만드는 것. 0과 2*np.pi 사이에서 100개의 radian 값\n",
        "s = np.sin(theta) #np 속 sin 함수에 넣는 것.\n",
        "plt.plot(theta, s, '.') #x축에 각도, y축에 sin의 결과값, 선은 점선의 형태\n",
        "plt.xlabel('angle(radian')\n",
        "plt.ylabel('value')\n",
        "plt.title('my first sine curve')"
      ],
      "execution_count": 5,
      "outputs": [
        {
          "output_type": "execute_result",
          "data": {
            "text/plain": [
              "Text(0.5, 1.0, 'my first sine curve')"
            ]
          },
          "metadata": {},
          "execution_count": 5
        },
        {
          "output_type": "display_data",
          "data": {
            "image/png": "[encoded data removed]",
            "text/plain": [
              "<Figure size 432x288 with 1 Axes>"
            ]
          },
          "metadata": {
            "needs_background": "light"
          }
        }
      ]
    },
    {
      "cell_type": "code",
      "metadata": {
        "colab": {
          "base_uri": "https://localhost:8080/",
          "height": 283
        },
        "id": "HleOEti_xm0d",
        "outputId": "7e91cf37-07ea-4298-f003-6d8af39c75eb"
      },
      "source": [
        "theta2 = np.linspace(0, 2*np.pi, 100) + np.pi/2 #100개의 sin 곡선이 0에서 2*np.pi까지 그리고 그 각도는 90도만큼\n",
        "s2 = np.sin(theta2)\n",
        "plt.plot(theta2, s2, '.') "
      ],
      "execution_count": null,
      "outputs": [
        {
          "output_type": "execute_result",
          "data": {
            "text/plain": [
              "[<matplotlib.lines.Line2D at 0x7f046cda4d50>]"
            ]
          },
          "metadata": {},
          "execution_count": 12
        },
        {
          "output_type": "display_data",
          "data": {
            "image/png": "[encoded data removed]",
            "text/plain": [
              "<Figure size 432x288 with 1 Axes>"
            ]
          },
          "metadata": {
            "needs_background": "light"
          }
        }
      ]
    },
    {
      "cell_type": "code",
      "metadata": {
        "colab": {
          "base_uri": "https://localhost:8080/"
        },
        "id": "VakrDXJVxt_W",
        "outputId": "3b027a45-54d7-4221-bf01-e3c73c0c65b3"
      },
      "source": [
        "np.corrcoef(s,s2) "
      ],
      "execution_count": null,
      "outputs": [
        {
          "output_type": "execute_result",
          "data": {
            "text/plain": [
              "array([[1.00000000e+00, 2.41915449e-17],\n",
              "       [2.41915449e-17, 1.00000000e+00]])"
            ]
          },
          "metadata": {},
          "execution_count": 13
        }
      ]
    }
  ]
}